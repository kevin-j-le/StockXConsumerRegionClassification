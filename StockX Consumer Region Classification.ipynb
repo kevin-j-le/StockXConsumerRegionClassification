{
 "cells": [
  {
   "cell_type": "markdown",
   "metadata": {},
   "source": [
    "# StockX Consumer Region Classification"
   ]
  },
  {
   "cell_type": "code",
   "execution_count": 1,
   "metadata": {},
   "outputs": [],
   "source": [
    "import pandas as pd\n",
    "import numpy as np\n",
    "import matplotlib.pyplot as plt \n",
    "from sklearn.model_selection import train_test_split\n",
    "\n",
    "%matplotlib inline\n",
    "# all figures will have figsize(10,5)\n",
    "plt.rcParams[\"figure.figsize\"] = [10, 5]"
   ]
  },
  {
   "cell_type": "code",
   "execution_count": 12,
   "metadata": {},
   "outputs": [
    {
     "data": {
      "text/html": [
       "<div>\n",
       "<style scoped>\n",
       "    .dataframe tbody tr th:only-of-type {\n",
       "        vertical-align: middle;\n",
       "    }\n",
       "\n",
       "    .dataframe tbody tr th {\n",
       "        vertical-align: top;\n",
       "    }\n",
       "\n",
       "    .dataframe thead th {\n",
       "        text-align: right;\n",
       "    }\n",
       "</style>\n",
       "<table border=\"1\" class=\"dataframe\">\n",
       "  <thead>\n",
       "    <tr style=\"text-align: right;\">\n",
       "      <th></th>\n",
       "      <th>Order Date</th>\n",
       "      <th>Brand</th>\n",
       "      <th>Sneaker Name</th>\n",
       "      <th>Sale Price</th>\n",
       "      <th>Retail Price</th>\n",
       "      <th>Release Date</th>\n",
       "      <th>Shoe Size</th>\n",
       "      <th>Buyer Region</th>\n",
       "    </tr>\n",
       "  </thead>\n",
       "  <tbody>\n",
       "    <tr>\n",
       "      <th>0</th>\n",
       "      <td>9/1/17</td>\n",
       "      <td>Yeezy</td>\n",
       "      <td>Adidas-Yeezy-Boost-350-Low-V2-Beluga</td>\n",
       "      <td>$1,097</td>\n",
       "      <td>$220</td>\n",
       "      <td>9/24/16</td>\n",
       "      <td>11.0</td>\n",
       "      <td>California</td>\n",
       "    </tr>\n",
       "    <tr>\n",
       "      <th>1</th>\n",
       "      <td>9/1/17</td>\n",
       "      <td>Yeezy</td>\n",
       "      <td>Adidas-Yeezy-Boost-350-V2-Core-Black-Copper</td>\n",
       "      <td>$685</td>\n",
       "      <td>$220</td>\n",
       "      <td>11/23/16</td>\n",
       "      <td>11.0</td>\n",
       "      <td>California</td>\n",
       "    </tr>\n",
       "    <tr>\n",
       "      <th>2</th>\n",
       "      <td>9/1/17</td>\n",
       "      <td>Yeezy</td>\n",
       "      <td>Adidas-Yeezy-Boost-350-V2-Core-Black-Green</td>\n",
       "      <td>$690</td>\n",
       "      <td>$220</td>\n",
       "      <td>11/23/16</td>\n",
       "      <td>11.0</td>\n",
       "      <td>California</td>\n",
       "    </tr>\n",
       "    <tr>\n",
       "      <th>3</th>\n",
       "      <td>9/1/17</td>\n",
       "      <td>Yeezy</td>\n",
       "      <td>Adidas-Yeezy-Boost-350-V2-Core-Black-Red</td>\n",
       "      <td>$1,075</td>\n",
       "      <td>$220</td>\n",
       "      <td>11/23/16</td>\n",
       "      <td>11.5</td>\n",
       "      <td>Kentucky</td>\n",
       "    </tr>\n",
       "    <tr>\n",
       "      <th>4</th>\n",
       "      <td>9/1/17</td>\n",
       "      <td>Yeezy</td>\n",
       "      <td>Adidas-Yeezy-Boost-350-V2-Core-Black-Red-2017</td>\n",
       "      <td>$828</td>\n",
       "      <td>$220</td>\n",
       "      <td>2/11/17</td>\n",
       "      <td>11.0</td>\n",
       "      <td>Rhode Island</td>\n",
       "    </tr>\n",
       "  </tbody>\n",
       "</table>\n",
       "</div>"
      ],
      "text/plain": [
       "  Order Date   Brand                                   Sneaker Name  \\\n",
       "0     9/1/17   Yeezy           Adidas-Yeezy-Boost-350-Low-V2-Beluga   \n",
       "1     9/1/17   Yeezy    Adidas-Yeezy-Boost-350-V2-Core-Black-Copper   \n",
       "2     9/1/17   Yeezy     Adidas-Yeezy-Boost-350-V2-Core-Black-Green   \n",
       "3     9/1/17   Yeezy       Adidas-Yeezy-Boost-350-V2-Core-Black-Red   \n",
       "4     9/1/17   Yeezy  Adidas-Yeezy-Boost-350-V2-Core-Black-Red-2017   \n",
       "\n",
       "  Sale Price Retail Price Release Date  Shoe Size  Buyer Region  \n",
       "0     $1,097         $220      9/24/16       11.0    California  \n",
       "1       $685         $220     11/23/16       11.0    California  \n",
       "2       $690         $220     11/23/16       11.0    California  \n",
       "3     $1,075         $220     11/23/16       11.5      Kentucky  \n",
       "4       $828         $220      2/11/17       11.0  Rhode Island  "
      ]
     },
     "execution_count": 12,
     "metadata": {},
     "output_type": "execute_result"
    }
   ],
   "source": [
    "# load the data\n",
    "fp = \"~/Desktop/DATA/data1030_student_f20/final-project/data/StockX-Data.csv\"\n",
    "df = pd.read_csv(fp)\n",
    "df.head()"
   ]
  },
  {
   "cell_type": "markdown",
   "metadata": {},
   "source": [
    "## Initial Data Cleaning"
   ]
  },
  {
   "cell_type": "code",
   "execution_count": 13,
   "metadata": {},
   "outputs": [
    {
     "data": {
      "text/plain": [
       "(99956, 8)"
      ]
     },
     "execution_count": 13,
     "metadata": {},
     "output_type": "execute_result"
    }
   ],
   "source": [
    "df.shape"
   ]
  },
  {
   "cell_type": "code",
   "execution_count": 14,
   "metadata": {},
   "outputs": [
    {
     "data": {
      "text/plain": [
       "Order Date       object\n",
       "Brand            object\n",
       "Sneaker Name     object\n",
       "Sale Price       object\n",
       "Retail Price     object\n",
       "Release Date     object\n",
       "Shoe Size       float64\n",
       "Buyer Region     object\n",
       "dtype: object"
      ]
     },
     "execution_count": 14,
     "metadata": {},
     "output_type": "execute_result"
    }
   ],
   "source": [
    "df.dtypes\n",
    "\n",
    "# mostly categorical except Sale Price, Retail Price, Shoe Size\n",
    "# Sale Price and Retail Price are of type 'object', probably because of the '$'"
   ]
  },
  {
   "cell_type": "markdown",
   "metadata": {},
   "source": [
    "Our features are mostly categorical except `Sale Price`, `Retail Price`, and `Shoe Size`. `Sale Price` and `Retail Price` are of type 'object', probably because of the dollar sign in their values. "
   ]
  },
  {
   "cell_type": "code",
   "execution_count": 15,
   "metadata": {},
   "outputs": [
    {
     "data": {
      "text/plain": [
       "Order Date      0\n",
       "Brand           0\n",
       "Sneaker Name    0\n",
       "Sale Price      0\n",
       "Retail Price    0\n",
       "Release Date    0\n",
       "Shoe Size       0\n",
       "Buyer Region    0\n",
       "dtype: int64"
      ]
     },
     "execution_count": 15,
     "metadata": {},
     "output_type": "execute_result"
    }
   ],
   "source": [
    "# check for null/missing data\n",
    "df.isnull().sum()"
   ]
  },
  {
   "cell_type": "markdown",
   "metadata": {},
   "source": [
    "Next, we clean our data by removing all dollar signs and commas from the price data. It also prepares it for casting to numeric types. "
   ]
  },
  {
   "cell_type": "code",
   "execution_count": 16,
   "metadata": {},
   "outputs": [],
   "source": [
    "# remove $ and comma from price data\n",
    "# prepare for casting\n",
    "df['Sale Price'] = df['Sale Price'].str.replace(',', '')\n",
    "df['Sale Price'] = df['Sale Price'].str.replace('$', '')\n",
    "df['Retail Price'] = df['Retail Price'].str.replace(',', '')\n",
    "df['Retail Price'] = df['Retail Price'].str.replace('$', '')"
   ]
  },
  {
   "cell_type": "code",
   "execution_count": 17,
   "metadata": {
    "scrolled": true
   },
   "outputs": [
    {
     "name": "stdout",
     "output_type": "stream",
     "text": [
      "Order Date      datetime64[ns]\n",
      "Brand                   object\n",
      "Sneaker Name            object\n",
      "Sale Price               int64\n",
      "Retail Price             int64\n",
      "Release Date    datetime64[ns]\n",
      "Shoe Size              float64\n",
      "Buyer Region            object\n",
      "dtype: object\n"
     ]
    }
   ],
   "source": [
    "# typecast Sale Price and Retail Price to float64\n",
    "# cast Order Date and Release Date to datetimes\n",
    "df['Sale Price'] = pd.to_numeric(df['Sale Price'], errors = 'coerce')\n",
    "df['Retail Price'] = pd.to_numeric(df['Retail Price'], errors = 'coerce')\n",
    "df['Order Date'] = pd.to_datetime(df['Order Date'])\n",
    "df['Release Date'] = pd.to_datetime(df['Release Date'])\n",
    "print(df.dtypes)"
   ]
  },
  {
   "cell_type": "code",
   "execution_count": 18,
   "metadata": {},
   "outputs": [
    {
     "data": {
      "text/html": [
       "<div>\n",
       "<style scoped>\n",
       "    .dataframe tbody tr th:only-of-type {\n",
       "        vertical-align: middle;\n",
       "    }\n",
       "\n",
       "    .dataframe tbody tr th {\n",
       "        vertical-align: top;\n",
       "    }\n",
       "\n",
       "    .dataframe thead th {\n",
       "        text-align: right;\n",
       "    }\n",
       "</style>\n",
       "<table border=\"1\" class=\"dataframe\">\n",
       "  <thead>\n",
       "    <tr style=\"text-align: right;\">\n",
       "      <th></th>\n",
       "      <th>Order Date</th>\n",
       "      <th>Brand</th>\n",
       "      <th>Sneaker Name</th>\n",
       "      <th>Sale Price</th>\n",
       "      <th>Retail Price</th>\n",
       "      <th>Release Date</th>\n",
       "      <th>Shoe Size</th>\n",
       "      <th>Buyer Region</th>\n",
       "    </tr>\n",
       "  </thead>\n",
       "  <tbody>\n",
       "    <tr>\n",
       "      <th>0</th>\n",
       "      <td>2017-09-01</td>\n",
       "      <td>Yeezy</td>\n",
       "      <td>Adidas-Yeezy-Boost-350-Low-V2-Beluga</td>\n",
       "      <td>1097</td>\n",
       "      <td>220</td>\n",
       "      <td>2016-09-24</td>\n",
       "      <td>11.0</td>\n",
       "      <td>California</td>\n",
       "    </tr>\n",
       "    <tr>\n",
       "      <th>1</th>\n",
       "      <td>2017-09-01</td>\n",
       "      <td>Yeezy</td>\n",
       "      <td>Adidas-Yeezy-Boost-350-V2-Core-Black-Copper</td>\n",
       "      <td>685</td>\n",
       "      <td>220</td>\n",
       "      <td>2016-11-23</td>\n",
       "      <td>11.0</td>\n",
       "      <td>California</td>\n",
       "    </tr>\n",
       "    <tr>\n",
       "      <th>2</th>\n",
       "      <td>2017-09-01</td>\n",
       "      <td>Yeezy</td>\n",
       "      <td>Adidas-Yeezy-Boost-350-V2-Core-Black-Green</td>\n",
       "      <td>690</td>\n",
       "      <td>220</td>\n",
       "      <td>2016-11-23</td>\n",
       "      <td>11.0</td>\n",
       "      <td>California</td>\n",
       "    </tr>\n",
       "    <tr>\n",
       "      <th>3</th>\n",
       "      <td>2017-09-01</td>\n",
       "      <td>Yeezy</td>\n",
       "      <td>Adidas-Yeezy-Boost-350-V2-Core-Black-Red</td>\n",
       "      <td>1075</td>\n",
       "      <td>220</td>\n",
       "      <td>2016-11-23</td>\n",
       "      <td>11.5</td>\n",
       "      <td>Kentucky</td>\n",
       "    </tr>\n",
       "    <tr>\n",
       "      <th>4</th>\n",
       "      <td>2017-09-01</td>\n",
       "      <td>Yeezy</td>\n",
       "      <td>Adidas-Yeezy-Boost-350-V2-Core-Black-Red-2017</td>\n",
       "      <td>828</td>\n",
       "      <td>220</td>\n",
       "      <td>2017-02-11</td>\n",
       "      <td>11.0</td>\n",
       "      <td>Rhode Island</td>\n",
       "    </tr>\n",
       "  </tbody>\n",
       "</table>\n",
       "</div>"
      ],
      "text/plain": [
       "  Order Date   Brand                                   Sneaker Name  \\\n",
       "0 2017-09-01   Yeezy           Adidas-Yeezy-Boost-350-Low-V2-Beluga   \n",
       "1 2017-09-01   Yeezy    Adidas-Yeezy-Boost-350-V2-Core-Black-Copper   \n",
       "2 2017-09-01   Yeezy     Adidas-Yeezy-Boost-350-V2-Core-Black-Green   \n",
       "3 2017-09-01   Yeezy       Adidas-Yeezy-Boost-350-V2-Core-Black-Red   \n",
       "4 2017-09-01   Yeezy  Adidas-Yeezy-Boost-350-V2-Core-Black-Red-2017   \n",
       "\n",
       "   Sale Price  Retail Price Release Date  Shoe Size  Buyer Region  \n",
       "0        1097           220   2016-09-24       11.0    California  \n",
       "1         685           220   2016-11-23       11.0    California  \n",
       "2         690           220   2016-11-23       11.0    California  \n",
       "3        1075           220   2016-11-23       11.5      Kentucky  \n",
       "4         828           220   2017-02-11       11.0  Rhode Island  "
      ]
     },
     "execution_count": 18,
     "metadata": {},
     "output_type": "execute_result"
    }
   ],
   "source": [
    "df.head()"
   ]
  },
  {
   "cell_type": "code",
   "execution_count": 9,
   "metadata": {},
   "outputs": [
    {
     "data": {
      "text/html": [
       "<div>\n",
       "<style scoped>\n",
       "    .dataframe tbody tr th:only-of-type {\n",
       "        vertical-align: middle;\n",
       "    }\n",
       "\n",
       "    .dataframe tbody tr th {\n",
       "        vertical-align: top;\n",
       "    }\n",
       "\n",
       "    .dataframe thead th {\n",
       "        text-align: right;\n",
       "    }\n",
       "</style>\n",
       "<table border=\"1\" class=\"dataframe\">\n",
       "  <thead>\n",
       "    <tr style=\"text-align: right;\">\n",
       "      <th></th>\n",
       "      <th>Order Date</th>\n",
       "      <th>Brand</th>\n",
       "      <th>Sneaker Name</th>\n",
       "      <th>Sale Price</th>\n",
       "      <th>Retail Price</th>\n",
       "      <th>Release Date</th>\n",
       "      <th>Shoe Size</th>\n",
       "      <th>Buyer Region</th>\n",
       "    </tr>\n",
       "  </thead>\n",
       "  <tbody>\n",
       "    <tr>\n",
       "      <th>0</th>\n",
       "      <td>2017-09-01</td>\n",
       "      <td>Yeezy</td>\n",
       "      <td>Adidas-Yeezy-Boost-350-Low-V2-Beluga</td>\n",
       "      <td>1097.0</td>\n",
       "      <td>220.0</td>\n",
       "      <td>2016-09-24</td>\n",
       "      <td>11.0</td>\n",
       "      <td>California</td>\n",
       "    </tr>\n",
       "    <tr>\n",
       "      <th>1</th>\n",
       "      <td>2017-09-01</td>\n",
       "      <td>Yeezy</td>\n",
       "      <td>Adidas-Yeezy-Boost-350-V2-Core-Black-Copper</td>\n",
       "      <td>685.0</td>\n",
       "      <td>220.0</td>\n",
       "      <td>2016-11-23</td>\n",
       "      <td>11.0</td>\n",
       "      <td>California</td>\n",
       "    </tr>\n",
       "    <tr>\n",
       "      <th>2</th>\n",
       "      <td>2017-09-01</td>\n",
       "      <td>Yeezy</td>\n",
       "      <td>Adidas-Yeezy-Boost-350-V2-Core-Black-Green</td>\n",
       "      <td>690.0</td>\n",
       "      <td>220.0</td>\n",
       "      <td>2016-11-23</td>\n",
       "      <td>11.0</td>\n",
       "      <td>California</td>\n",
       "    </tr>\n",
       "    <tr>\n",
       "      <th>3</th>\n",
       "      <td>2017-09-01</td>\n",
       "      <td>Yeezy</td>\n",
       "      <td>Adidas-Yeezy-Boost-350-V2-Core-Black-Red</td>\n",
       "      <td>1075.0</td>\n",
       "      <td>220.0</td>\n",
       "      <td>2016-11-23</td>\n",
       "      <td>11.5</td>\n",
       "      <td>Kentucky</td>\n",
       "    </tr>\n",
       "    <tr>\n",
       "      <th>4</th>\n",
       "      <td>2017-09-01</td>\n",
       "      <td>Yeezy</td>\n",
       "      <td>Adidas-Yeezy-Boost-350-V2-Core-Black-Red-2017</td>\n",
       "      <td>828.0</td>\n",
       "      <td>220.0</td>\n",
       "      <td>2017-02-11</td>\n",
       "      <td>11.0</td>\n",
       "      <td>Rhode Island</td>\n",
       "    </tr>\n",
       "    <tr>\n",
       "      <th>...</th>\n",
       "      <td>...</td>\n",
       "      <td>...</td>\n",
       "      <td>...</td>\n",
       "      <td>...</td>\n",
       "      <td>...</td>\n",
       "      <td>...</td>\n",
       "      <td>...</td>\n",
       "      <td>...</td>\n",
       "    </tr>\n",
       "    <tr>\n",
       "      <th>99951</th>\n",
       "      <td>2019-02-13</td>\n",
       "      <td>Yeezy</td>\n",
       "      <td>adidas-Yeezy-Boost-350-V2-Static-Reflective</td>\n",
       "      <td>565.0</td>\n",
       "      <td>220.0</td>\n",
       "      <td>2018-12-26</td>\n",
       "      <td>8.0</td>\n",
       "      <td>Oregon</td>\n",
       "    </tr>\n",
       "    <tr>\n",
       "      <th>99952</th>\n",
       "      <td>2019-02-13</td>\n",
       "      <td>Yeezy</td>\n",
       "      <td>adidas-Yeezy-Boost-350-V2-Static-Reflective</td>\n",
       "      <td>598.0</td>\n",
       "      <td>220.0</td>\n",
       "      <td>2018-12-26</td>\n",
       "      <td>8.5</td>\n",
       "      <td>California</td>\n",
       "    </tr>\n",
       "    <tr>\n",
       "      <th>99953</th>\n",
       "      <td>2019-02-13</td>\n",
       "      <td>Yeezy</td>\n",
       "      <td>adidas-Yeezy-Boost-350-V2-Static-Reflective</td>\n",
       "      <td>605.0</td>\n",
       "      <td>220.0</td>\n",
       "      <td>2018-12-26</td>\n",
       "      <td>5.5</td>\n",
       "      <td>New York</td>\n",
       "    </tr>\n",
       "    <tr>\n",
       "      <th>99954</th>\n",
       "      <td>2019-02-13</td>\n",
       "      <td>Yeezy</td>\n",
       "      <td>adidas-Yeezy-Boost-350-V2-Static-Reflective</td>\n",
       "      <td>650.0</td>\n",
       "      <td>220.0</td>\n",
       "      <td>2018-12-26</td>\n",
       "      <td>11.0</td>\n",
       "      <td>California</td>\n",
       "    </tr>\n",
       "    <tr>\n",
       "      <th>99955</th>\n",
       "      <td>2019-02-13</td>\n",
       "      <td>Yeezy</td>\n",
       "      <td>adidas-Yeezy-Boost-350-V2-Static-Reflective</td>\n",
       "      <td>640.0</td>\n",
       "      <td>220.0</td>\n",
       "      <td>2018-12-26</td>\n",
       "      <td>11.5</td>\n",
       "      <td>Texas</td>\n",
       "    </tr>\n",
       "  </tbody>\n",
       "</table>\n",
       "<p>99956 rows × 8 columns</p>\n",
       "</div>"
      ],
      "text/plain": [
       "      Order Date   Brand                                   Sneaker Name  \\\n",
       "0     2017-09-01   Yeezy           Adidas-Yeezy-Boost-350-Low-V2-Beluga   \n",
       "1     2017-09-01   Yeezy    Adidas-Yeezy-Boost-350-V2-Core-Black-Copper   \n",
       "2     2017-09-01   Yeezy     Adidas-Yeezy-Boost-350-V2-Core-Black-Green   \n",
       "3     2017-09-01   Yeezy       Adidas-Yeezy-Boost-350-V2-Core-Black-Red   \n",
       "4     2017-09-01   Yeezy  Adidas-Yeezy-Boost-350-V2-Core-Black-Red-2017   \n",
       "...          ...     ...                                            ...   \n",
       "99951 2019-02-13   Yeezy    adidas-Yeezy-Boost-350-V2-Static-Reflective   \n",
       "99952 2019-02-13   Yeezy    adidas-Yeezy-Boost-350-V2-Static-Reflective   \n",
       "99953 2019-02-13   Yeezy    adidas-Yeezy-Boost-350-V2-Static-Reflective   \n",
       "99954 2019-02-13   Yeezy    adidas-Yeezy-Boost-350-V2-Static-Reflective   \n",
       "99955 2019-02-13   Yeezy    adidas-Yeezy-Boost-350-V2-Static-Reflective   \n",
       "\n",
       "       Sale Price  Retail Price Release Date  Shoe Size  Buyer Region  \n",
       "0          1097.0         220.0   2016-09-24       11.0    California  \n",
       "1           685.0         220.0   2016-11-23       11.0    California  \n",
       "2           690.0         220.0   2016-11-23       11.0    California  \n",
       "3          1075.0         220.0   2016-11-23       11.5      Kentucky  \n",
       "4           828.0         220.0   2017-02-11       11.0  Rhode Island  \n",
       "...           ...           ...          ...        ...           ...  \n",
       "99951       565.0         220.0   2018-12-26        8.0        Oregon  \n",
       "99952       598.0         220.0   2018-12-26        8.5    California  \n",
       "99953       605.0         220.0   2018-12-26        5.5      New York  \n",
       "99954       650.0         220.0   2018-12-26       11.0    California  \n",
       "99955       640.0         220.0   2018-12-26       11.5         Texas  \n",
       "\n",
       "[99956 rows x 8 columns]"
      ]
     },
     "execution_count": 9,
     "metadata": {},
     "output_type": "execute_result"
    }
   ],
   "source": [
    "# cast sale price and retail price as float64\n",
    "df.astype({'Sale Price':'float64', 'Retail Price':'float64'})"
   ]
  },
  {
   "cell_type": "code",
   "execution_count": 25,
   "metadata": {},
   "outputs": [
    {
     "data": {
      "text/html": [
       "<div>\n",
       "<style scoped>\n",
       "    .dataframe tbody tr th:only-of-type {\n",
       "        vertical-align: middle;\n",
       "    }\n",
       "\n",
       "    .dataframe tbody tr th {\n",
       "        vertical-align: top;\n",
       "    }\n",
       "\n",
       "    .dataframe thead th {\n",
       "        text-align: right;\n",
       "    }\n",
       "</style>\n",
       "<table border=\"1\" class=\"dataframe\">\n",
       "  <thead>\n",
       "    <tr style=\"text-align: right;\">\n",
       "      <th></th>\n",
       "      <th>Order_Date</th>\n",
       "      <th>Brand</th>\n",
       "      <th>Sneaker_Name</th>\n",
       "      <th>Sale_Price</th>\n",
       "      <th>Retail_Price</th>\n",
       "      <th>Release_Date</th>\n",
       "      <th>Shoe_Size</th>\n",
       "      <th>Buyer_Region</th>\n",
       "    </tr>\n",
       "  </thead>\n",
       "  <tbody>\n",
       "    <tr>\n",
       "      <th>0</th>\n",
       "      <td>2017-09-01</td>\n",
       "      <td>Yeezy</td>\n",
       "      <td>Adidas-Yeezy-Boost-350-Low-V2-Beluga</td>\n",
       "      <td>1097</td>\n",
       "      <td>220</td>\n",
       "      <td>2016-09-24</td>\n",
       "      <td>11.0</td>\n",
       "      <td>California</td>\n",
       "    </tr>\n",
       "    <tr>\n",
       "      <th>1</th>\n",
       "      <td>2017-09-01</td>\n",
       "      <td>Yeezy</td>\n",
       "      <td>Adidas-Yeezy-Boost-350-V2-Core-Black-Copper</td>\n",
       "      <td>685</td>\n",
       "      <td>220</td>\n",
       "      <td>2016-11-23</td>\n",
       "      <td>11.0</td>\n",
       "      <td>California</td>\n",
       "    </tr>\n",
       "    <tr>\n",
       "      <th>2</th>\n",
       "      <td>2017-09-01</td>\n",
       "      <td>Yeezy</td>\n",
       "      <td>Adidas-Yeezy-Boost-350-V2-Core-Black-Green</td>\n",
       "      <td>690</td>\n",
       "      <td>220</td>\n",
       "      <td>2016-11-23</td>\n",
       "      <td>11.0</td>\n",
       "      <td>California</td>\n",
       "    </tr>\n",
       "    <tr>\n",
       "      <th>3</th>\n",
       "      <td>2017-09-01</td>\n",
       "      <td>Yeezy</td>\n",
       "      <td>Adidas-Yeezy-Boost-350-V2-Core-Black-Red</td>\n",
       "      <td>1075</td>\n",
       "      <td>220</td>\n",
       "      <td>2016-11-23</td>\n",
       "      <td>11.5</td>\n",
       "      <td>Kentucky</td>\n",
       "    </tr>\n",
       "    <tr>\n",
       "      <th>4</th>\n",
       "      <td>2017-09-01</td>\n",
       "      <td>Yeezy</td>\n",
       "      <td>Adidas-Yeezy-Boost-350-V2-Core-Black-Red-2017</td>\n",
       "      <td>828</td>\n",
       "      <td>220</td>\n",
       "      <td>2017-02-11</td>\n",
       "      <td>11.0</td>\n",
       "      <td>Rhode Island</td>\n",
       "    </tr>\n",
       "  </tbody>\n",
       "</table>\n",
       "</div>"
      ],
      "text/plain": [
       "  Order_Date   Brand                                   Sneaker_Name  \\\n",
       "0 2017-09-01   Yeezy           Adidas-Yeezy-Boost-350-Low-V2-Beluga   \n",
       "1 2017-09-01   Yeezy    Adidas-Yeezy-Boost-350-V2-Core-Black-Copper   \n",
       "2 2017-09-01   Yeezy     Adidas-Yeezy-Boost-350-V2-Core-Black-Green   \n",
       "3 2017-09-01   Yeezy       Adidas-Yeezy-Boost-350-V2-Core-Black-Red   \n",
       "4 2017-09-01   Yeezy  Adidas-Yeezy-Boost-350-V2-Core-Black-Red-2017   \n",
       "\n",
       "   Sale_Price  Retail_Price Release_Date  Shoe_Size  Buyer_Region  \n",
       "0        1097           220   2016-09-24       11.0    California  \n",
       "1         685           220   2016-11-23       11.0    California  \n",
       "2         690           220   2016-11-23       11.0    California  \n",
       "3        1075           220   2016-11-23       11.5      Kentucky  \n",
       "4         828           220   2017-02-11       11.0  Rhode Island  "
      ]
     },
     "execution_count": 25,
     "metadata": {},
     "output_type": "execute_result"
    }
   ],
   "source": [
    "# rename columns to remove spaces \n",
    "df = df.rename(columns = {\n",
    "    \"Order Date\": \"Order_Date\", \n",
    "    \"Sneaker Name\": \"Sneaker_Name\", \n",
    "    \"Sale Price\": \"Sale_Price\", \n",
    "    \"Retail Price\": \"Retail_Price\", \n",
    "    \"Release Date\": \"Release_Date\", \n",
    "    \"Shoe Size\": \"Shoe_Size\", \n",
    "    \"Buyer Region\": \"Buyer_Region\"\n",
    "})\n",
    "df.head()"
   ]
  },
  {
   "cell_type": "markdown",
   "metadata": {},
   "source": [
    "## EDA"
   ]
  },
  {
   "cell_type": "code",
   "execution_count": 26,
   "metadata": {},
   "outputs": [
    {
     "data": {
      "text/html": [
       "<div>\n",
       "<style scoped>\n",
       "    .dataframe tbody tr th:only-of-type {\n",
       "        vertical-align: middle;\n",
       "    }\n",
       "\n",
       "    .dataframe tbody tr th {\n",
       "        vertical-align: top;\n",
       "    }\n",
       "\n",
       "    .dataframe thead th {\n",
       "        text-align: right;\n",
       "    }\n",
       "</style>\n",
       "<table border=\"1\" class=\"dataframe\">\n",
       "  <thead>\n",
       "    <tr style=\"text-align: right;\">\n",
       "      <th></th>\n",
       "      <th>Sale_Price</th>\n",
       "      <th>Retail_Price</th>\n",
       "      <th>Shoe_Size</th>\n",
       "    </tr>\n",
       "  </thead>\n",
       "  <tbody>\n",
       "    <tr>\n",
       "      <th>count</th>\n",
       "      <td>99956.000000</td>\n",
       "      <td>99956.00000</td>\n",
       "      <td>99956.000000</td>\n",
       "    </tr>\n",
       "    <tr>\n",
       "      <th>mean</th>\n",
       "      <td>446.634719</td>\n",
       "      <td>208.61359</td>\n",
       "      <td>9.344181</td>\n",
       "    </tr>\n",
       "    <tr>\n",
       "      <th>std</th>\n",
       "      <td>255.982969</td>\n",
       "      <td>25.20001</td>\n",
       "      <td>2.329588</td>\n",
       "    </tr>\n",
       "    <tr>\n",
       "      <th>min</th>\n",
       "      <td>186.000000</td>\n",
       "      <td>130.00000</td>\n",
       "      <td>3.500000</td>\n",
       "    </tr>\n",
       "    <tr>\n",
       "      <th>25%</th>\n",
       "      <td>275.000000</td>\n",
       "      <td>220.00000</td>\n",
       "      <td>8.000000</td>\n",
       "    </tr>\n",
       "    <tr>\n",
       "      <th>50%</th>\n",
       "      <td>370.000000</td>\n",
       "      <td>220.00000</td>\n",
       "      <td>9.500000</td>\n",
       "    </tr>\n",
       "    <tr>\n",
       "      <th>75%</th>\n",
       "      <td>540.000000</td>\n",
       "      <td>220.00000</td>\n",
       "      <td>11.000000</td>\n",
       "    </tr>\n",
       "    <tr>\n",
       "      <th>max</th>\n",
       "      <td>4050.000000</td>\n",
       "      <td>250.00000</td>\n",
       "      <td>17.000000</td>\n",
       "    </tr>\n",
       "  </tbody>\n",
       "</table>\n",
       "</div>"
      ],
      "text/plain": [
       "         Sale_Price  Retail_Price     Shoe_Size\n",
       "count  99956.000000   99956.00000  99956.000000\n",
       "mean     446.634719     208.61359      9.344181\n",
       "std      255.982969      25.20001      2.329588\n",
       "min      186.000000     130.00000      3.500000\n",
       "25%      275.000000     220.00000      8.000000\n",
       "50%      370.000000     220.00000      9.500000\n",
       "75%      540.000000     220.00000     11.000000\n",
       "max     4050.000000     250.00000     17.000000"
      ]
     },
     "execution_count": 26,
     "metadata": {},
     "output_type": "execute_result"
    }
   ],
   "source": [
    "df.describe()"
   ]
  },
  {
   "cell_type": "code",
   "execution_count": 27,
   "metadata": {
    "scrolled": false
   },
   "outputs": [
    {
     "name": "stdout",
     "output_type": "stream",
     "text": [
      "Order_Date \n",
      " 2018-11-16    1388\n",
      "2018-11-23    1262\n",
      "2018-12-27    1034\n",
      "2018-06-30    1033\n",
      "2019-02-07     893\n",
      "              ... \n",
      "2017-10-16      10\n",
      "2017-10-22       9\n",
      "2017-10-15       8\n",
      "2017-10-19       8\n",
      "2017-10-29       8\n",
      "Name: Order_Date, Length: 531, dtype: int64\n",
      "\n",
      "\n",
      "Brand \n",
      "  Yeezy       72162\n",
      "Off-White    27794\n",
      "Name: Brand, dtype: int64\n",
      "\n",
      "\n",
      "Sneaker_Name \n",
      " adidas-Yeezy-Boost-350-V2-Butter                     11423\n",
      "Adidas-Yeezy-Boost-350-V2-Beluga-2pt0                10395\n",
      "Adidas-Yeezy-Boost-350-V2-Zebra                      10110\n",
      "Adidas-Yeezy-Boost-350-V2-Blue-Tint                   9297\n",
      "Adidas-Yeezy-Boost-350-V2-Cream-White                 9097\n",
      "Adidas-Yeezy-Boost-350-V2-Sesame                      5553\n",
      "adidas-Yeezy-Boost-350-V2-Static                      4983\n",
      "Adidas-Yeezy-Boost-350-V2-Semi-Frozen-Yellow          4854\n",
      "Air-Jordan-1-Retro-High-Off-White-University-Blue     4635\n",
      "adidas-Yeezy-Boost-350-V2-Static-Reflective           3184\n",
      "Nike-Air-Presto-Off-White-Black-2018                  1884\n",
      "Nike-Air-Presto-Off-White-White-2018                  1883\n",
      "Nike-Air-VaporMax-Off-White-2018                      1591\n",
      "Nike-Blazer-Mid-Off-White-All-Hallows-Eve             1435\n",
      "Nike-Blazer-Mid-Off-White-Grim-Reaper                 1398\n",
      "Nike-Zoom-Fly-Off-White-Pink                          1359\n",
      "Nike-Air-VaporMax-Off-White-Black                     1313\n",
      "Nike-Zoom-Fly-Off-White-Black-Silver                  1222\n",
      "Nike-Air-Force-1-Low-Off-White-Volt                   1019\n",
      "Adidas-Yeezy-Boost-350-V2-Core-Black-Red-2017          969\n",
      "Nike-Air-Force-1-Low-Off-White-Black-White             960\n",
      "Air-Jordan-1-Retro-High-Off-White-Chicago              755\n",
      "Nike-Air-Max-90-Off-White-Black                        722\n",
      "Nike-Zoom-Fly-Mercurial-Off-White-Total-Orange         656\n",
      "Nike-Air-Max-90-Off-White-Desert-Ore                   649\n",
      "Nike-Zoom-Fly-Mercurial-Off-White-Black                645\n",
      "Nike-Air-Max-90-Off-White                              627\n",
      "Adidas-Yeezy-Boost-350-V2-Core-Black-White             621\n",
      "Nike-Air-Presto-Off-White                              596\n",
      "Nike-Air-Max-97-Off-White                              544\n",
      "Nike-Air-VaporMax-Off-White                            525\n",
      "Nike-Blazer-Mid-Off-White                              501\n",
      "Adidas-Yeezy-Boost-350-Low-V2-Beluga                   498\n",
      "Nike-React-Hyperdunk-2017-Flyknit-Off-White            484\n",
      "Nike-Air-Force-1-Low-Off-White                         476\n",
      "Nike-Zoom-Fly-Off-White                                435\n",
      "Nike-Air-Max-97-Off-White-Menta                        343\n",
      "Air-Jordan-1-Retro-High-Off-White-White                313\n",
      "Adidas-Yeezy-Boost-350-V2-Core-Black-Red               302\n",
      "Nike-Air-Max-97-Off-White-Black                        289\n",
      "Nike-Blazer-Mid-Off-White-Wolf-Grey                    288\n",
      "Adidas-Yeezy-Boost-350-V2-Core-Black-Copper            225\n",
      "Nike-Air-Max-97-Off-White-Elemental-Rose-Queen         216\n",
      "Adidas-Yeezy-Boost-350-V2-Core-Black-Green             196\n",
      "Adidas-Yeezy-Boost-350-Low-Pirate-Black-2016           122\n",
      "Adidas-Yeezy-Boost-350-Low-Moonrock                    100\n",
      "Adidas-Yeezy-Boost-350-Low-Pirate-Black-2015            95\n",
      "Adidas-Yeezy-Boost-350-Low-Oxford-Tan                   70\n",
      "Adidas-Yeezy-Boost-350-Low-Turtledove                   68\n",
      "Nike-Air-Force-1-Low-Virgil-Abloh-Off-White-AF100       31\n",
      "Name: Sneaker_Name, dtype: int64\n",
      "\n",
      "\n",
      "Release_Date \n",
      " 2018-06-30    11423\n",
      "2017-11-25    10395\n",
      "2017-02-25    10110\n",
      "2017-12-16     9297\n",
      "2017-04-29     9097\n",
      "2018-11-23     5553\n",
      "2018-12-27     4983\n",
      "2017-11-18     4854\n",
      "2018-06-23     4635\n",
      "2018-12-26     3184\n",
      "2017-09-09     3004\n",
      "2018-10-03     2833\n",
      "2018-12-19     1979\n",
      "2017-11-01     1939\n",
      "2018-07-27     1884\n",
      "2018-08-03     1883\n",
      "2018-04-14     1591\n",
      "2019-02-07     1371\n",
      "2018-11-28     1359\n",
      "2018-03-30     1313\n",
      "2018-06-14     1301\n",
      "2018-10-13     1222\n",
      "2017-02-11      969\n",
      "2016-11-23      723\n",
      "2018-10-18      632\n",
      "2016-12-17      621\n",
      "2018-08-25      504\n",
      "2016-09-24      498\n",
      "2018-03-03      313\n",
      "2016-02-19      122\n",
      "2015-11-14      100\n",
      "2015-08-22       95\n",
      "2015-12-29       70\n",
      "2015-06-27       68\n",
      "2017-11-04       31\n",
      "Name: Release_Date, dtype: int64\n",
      "\n",
      "\n"
     ]
    }
   ],
   "source": [
    "# describe categorical variables\n",
    "for (col_name, col_val) in df.iteritems(): \n",
    "    if col_name != 'Sale_Price' and col_name != 'Retail_Price' and col_name != 'Shoe_Size' \\\n",
    "    and col_name != 'Buyer_Region':\n",
    "        print(col_name, '\\n', df[col_name].value_counts())\n",
    "        print('\\n')"
   ]
  },
  {
   "cell_type": "code",
   "execution_count": 28,
   "metadata": {},
   "outputs": [
    {
     "name": "stdout",
     "output_type": "stream",
     "text": [
      "Number of unique buyer regions:  51\n"
     ]
    },
    {
     "data": {
      "text/plain": [
       "California              19349\n",
       "New York                16525\n",
       "Oregon                   7681\n",
       "Florida                  6376\n",
       "Texas                    5876\n",
       "New Jersey               4720\n",
       "Illinois                 3782\n",
       "Pennsylvania             3109\n",
       "Massachusetts            2903\n",
       "Michigan                 2762\n",
       "Virginia                 2058\n",
       "Ohio                     1890\n",
       "Maryland                 1870\n",
       "Washington               1863\n",
       "Georgia                  1846\n",
       "Arizona                  1398\n",
       "North Carolina           1344\n",
       "Delaware                 1242\n",
       "Connecticut              1110\n",
       "Indiana                  1026\n",
       "Colorado                  954\n",
       "Wisconsin                 840\n",
       "Nevada                    790\n",
       "Tennessee                 731\n",
       "Minnesota                 725\n",
       "Missouri                  660\n",
       "South Carolina            570\n",
       "Louisiana                 537\n",
       "Kentucky                  488\n",
       "Iowa                      460\n",
       "Alabama                   457\n",
       "Utah                      450\n",
       "Oklahoma                  412\n",
       "Hawaii                    383\n",
       "Rhode Island              347\n",
       "Kansas                    340\n",
       "District of Columbia      271\n",
       "Nebraska                  245\n",
       "New Hampshire             241\n",
       "New Mexico                231\n",
       "Arkansas                  173\n",
       "West Virginia             166\n",
       "Mississippi               163\n",
       "Maine                     132\n",
       "Idaho                     107\n",
       "Vermont                    84\n",
       "North Dakota               64\n",
       "Alaska                     61\n",
       "South Dakota               55\n",
       "Montana                    49\n",
       "Wyoming                    40\n",
       "Name: Buyer_Region, dtype: int64"
      ]
     },
     "execution_count": 28,
     "metadata": {},
     "output_type": "execute_result"
    }
   ],
   "source": [
    "# explore properties of target variable\n",
    "# number of unique buyer regions \n",
    "# number of sales per region\n",
    "\n",
    "print(\"Number of unique buyer regions: \", df['Buyer_Region'].nunique())\n",
    "df['Buyer_Region'].value_counts()\n",
    "\n",
    "# 51 unique buyer regions is a lot\n",
    "# having this many classifiers may complicate the ML pipeline down the line (?)"
   ]
  },
  {
   "cell_type": "code",
   "execution_count": 40,
   "metadata": {
    "scrolled": false
   },
   "outputs": [
    {
     "data": {
      "image/png": "[encoded data removed]",
      "text/plain": [
       "<Figure size 720x360 with 1 Axes>"
      ]
     },
     "metadata": {
      "needs_background": "light"
     },
     "output_type": "display_data"
    },
    {
     "data": {
      "image/png": "[encoded data removed]",
      "text/plain": [
       "<Figure size 720x360 with 1 Axes>"
      ]
     },
     "metadata": {
      "needs_background": "light"
     },
     "output_type": "display_data"
    },
    {
     "data": {
      "image/png": "[encoded data removed]",
      "text/plain": [
       "<Figure size 720x360 with 1 Axes>"
      ]
     },
     "metadata": {
      "needs_background": "light"
     },
     "output_type": "display_data"
    },
    {
     "data": {
      "image/png": "[encoded data removed]",
      "text/plain": [
       "<Figure size 720x360 with 1 Axes>"
      ]
     },
     "metadata": {
      "needs_background": "light"
     },
     "output_type": "display_data"
    },
    {
     "data": {
      "image/png": "[encoded data removed]",
      "text/plain": [
       "<Figure size 720x360 with 1 Axes>"
      ]
     },
     "metadata": {
      "needs_background": "light"
     },
     "output_type": "display_data"
    }
   ],
   "source": [
    "# distributions for release date, buyer region, sneaker name, shoe size, and brand\n",
    "# create normalized pie plots for buyer region and shoe size \n",
    "\n",
    "# pay special attention to buyer region\n",
    "\n",
    "cats = ['Release_Date', 'Buyer_Region', 'Sneaker_Name', 'Shoe_Size', 'Brand']\n",
    "for cat in cats: \n",
    "    plot = pd.value_counts(df[str(cat)], normalize = True).plot.bar(color = 'green', width = 0.75)\n",
    "    plt.title(\"Sneaker Sales per %s\" % (cat), fontsize = 16)\n",
    "    plt.xlabel(\"%s\" % (cat), fontsize = 16, ha = 'center')\n",
    "    plt.ylabel(\"Fraction of Sales\", fontsize = 16, ha = 'center')\n",
    "    plt.savefig('figures/SneakerSalesPer{}.png'.format(cat), bbox_inches = 'tight')\n",
    "    plt.show()"
   ]
  },
  {
   "cell_type": "markdown",
   "metadata": {},
   "source": [
    "Our original target variable, **Buyer Region**, has 51 unique classifiers. Using this many classifiers in our final model is likely to cause complications later in the supervised ML pipeline, so I will then consolidate these regions into 4 **US Regions**. These four regions are based on US Census Bureau-designated regions and divisions."
   ]
  },
  {
   "cell_type": "code",
   "execution_count": 29,
   "metadata": {},
   "outputs": [],
   "source": [
    "# creating a new column called 'US_Region' \n",
    "# reduces number of unique classifiers in target variable\n",
    "# regions are based on Census Bureau-designated regions and divisions\n",
    "us_regions = []\n",
    "for index, row in df.iterrows():\n",
    "    if row['Buyer_Region'] == \"Connecticut\" or \\\n",
    "    row['Buyer_Region'] == 'Maine' or \\\n",
    "    row['Buyer_Region'] == 'Massachusetts' or \\\n",
    "    row['Buyer_Region'] == 'New Hampshire' or \\\n",
    "    row['Buyer_Region'] == 'Rhode Island' or \\\n",
    "    row['Buyer_Region'] == 'Vermont' or \\\n",
    "    row['Buyer_Region'] == 'New Jersey' or \\\n",
    "    row['Buyer_Region'] == 'New York' or \\\n",
    "    row['Buyer_Region'] == 'Pennsylvania':\n",
    "        us_regions.append('Northeast')\n",
    "    elif row['Buyer_Region'] == 'Illinois' or \\\n",
    "    row['Buyer_Region'] == 'Indiana' or \\\n",
    "    row['Buyer_Region'] == 'Michigan' or \\\n",
    "    row['Buyer_Region'] == 'Ohio' or \\\n",
    "    row['Buyer_Region'] == 'Wisconsin' or \\\n",
    "    row['Buyer_Region'] == 'Iowa' or \\\n",
    "    row['Buyer_Region'] == 'Kansas' or \\\n",
    "    row['Buyer_Region'] == 'Minnesota' or \\\n",
    "    row['Buyer_Region'] == 'Missouri' or \\\n",
    "    row['Buyer_Region'] == 'Nebraska' or \\\n",
    "    row['Buyer_Region'] == 'North Dakota' or \\\n",
    "    row['Buyer_Region'] == 'South Dakota':\n",
    "        us_regions.append('Midwest')\n",
    "    elif row['Buyer_Region'] == 'Arizona' or \\\n",
    "    row['Buyer_Region'] == 'Colorado' or \\\n",
    "    row['Buyer_Region'] == 'Idaho' or \\\n",
    "    row['Buyer_Region'] == 'Montana' or \\\n",
    "    row['Buyer_Region'] == 'Nevada' or \\\n",
    "    row['Buyer_Region'] == 'New Mexico' or \\\n",
    "    row['Buyer_Region'] == 'Utah' or \\\n",
    "    row['Buyer_Region'] == 'Wyoming' or \\\n",
    "    row['Buyer_Region'] == 'Alaska' or \\\n",
    "    row['Buyer_Region'] == 'California' or \\\n",
    "    row['Buyer_Region'] == 'Hawaii' or \\\n",
    "    row['Buyer_Region'] == 'Oregon' or \\\n",
    "    row['Buyer_Region'] == 'Washington': \n",
    "        us_regions.append('West')\n",
    "    else: \n",
    "        us_regions.append('South')\n",
    "\n",
    "df['US_Region'] = us_regions"
   ]
  },
  {
   "cell_type": "code",
   "execution_count": 30,
   "metadata": {
    "scrolled": false
   },
   "outputs": [
    {
     "data": {
      "text/html": [
       "<div>\n",
       "<style scoped>\n",
       "    .dataframe tbody tr th:only-of-type {\n",
       "        vertical-align: middle;\n",
       "    }\n",
       "\n",
       "    .dataframe tbody tr th {\n",
       "        vertical-align: top;\n",
       "    }\n",
       "\n",
       "    .dataframe thead th {\n",
       "        text-align: right;\n",
       "    }\n",
       "</style>\n",
       "<table border=\"1\" class=\"dataframe\">\n",
       "  <thead>\n",
       "    <tr style=\"text-align: right;\">\n",
       "      <th></th>\n",
       "      <th>Order_Date</th>\n",
       "      <th>Brand</th>\n",
       "      <th>Sneaker_Name</th>\n",
       "      <th>Sale_Price</th>\n",
       "      <th>Retail_Price</th>\n",
       "      <th>Release_Date</th>\n",
       "      <th>Shoe_Size</th>\n",
       "      <th>Buyer_Region</th>\n",
       "      <th>US_Region</th>\n",
       "    </tr>\n",
       "  </thead>\n",
       "  <tbody>\n",
       "    <tr>\n",
       "      <th>0</th>\n",
       "      <td>2017-09-01</td>\n",
       "      <td>Yeezy</td>\n",
       "      <td>Adidas-Yeezy-Boost-350-Low-V2-Beluga</td>\n",
       "      <td>1097</td>\n",
       "      <td>220</td>\n",
       "      <td>2016-09-24</td>\n",
       "      <td>11.0</td>\n",
       "      <td>California</td>\n",
       "      <td>West</td>\n",
       "    </tr>\n",
       "    <tr>\n",
       "      <th>1</th>\n",
       "      <td>2017-09-01</td>\n",
       "      <td>Yeezy</td>\n",
       "      <td>Adidas-Yeezy-Boost-350-V2-Core-Black-Copper</td>\n",
       "      <td>685</td>\n",
       "      <td>220</td>\n",
       "      <td>2016-11-23</td>\n",
       "      <td>11.0</td>\n",
       "      <td>California</td>\n",
       "      <td>West</td>\n",
       "    </tr>\n",
       "    <tr>\n",
       "      <th>2</th>\n",
       "      <td>2017-09-01</td>\n",
       "      <td>Yeezy</td>\n",
       "      <td>Adidas-Yeezy-Boost-350-V2-Core-Black-Green</td>\n",
       "      <td>690</td>\n",
       "      <td>220</td>\n",
       "      <td>2016-11-23</td>\n",
       "      <td>11.0</td>\n",
       "      <td>California</td>\n",
       "      <td>West</td>\n",
       "    </tr>\n",
       "    <tr>\n",
       "      <th>3</th>\n",
       "      <td>2017-09-01</td>\n",
       "      <td>Yeezy</td>\n",
       "      <td>Adidas-Yeezy-Boost-350-V2-Core-Black-Red</td>\n",
       "      <td>1075</td>\n",
       "      <td>220</td>\n",
       "      <td>2016-11-23</td>\n",
       "      <td>11.5</td>\n",
       "      <td>Kentucky</td>\n",
       "      <td>South</td>\n",
       "    </tr>\n",
       "    <tr>\n",
       "      <th>4</th>\n",
       "      <td>2017-09-01</td>\n",
       "      <td>Yeezy</td>\n",
       "      <td>Adidas-Yeezy-Boost-350-V2-Core-Black-Red-2017</td>\n",
       "      <td>828</td>\n",
       "      <td>220</td>\n",
       "      <td>2017-02-11</td>\n",
       "      <td>11.0</td>\n",
       "      <td>Rhode Island</td>\n",
       "      <td>Northeast</td>\n",
       "    </tr>\n",
       "  </tbody>\n",
       "</table>\n",
       "</div>"
      ],
      "text/plain": [
       "  Order_Date   Brand                                   Sneaker_Name  \\\n",
       "0 2017-09-01   Yeezy           Adidas-Yeezy-Boost-350-Low-V2-Beluga   \n",
       "1 2017-09-01   Yeezy    Adidas-Yeezy-Boost-350-V2-Core-Black-Copper   \n",
       "2 2017-09-01   Yeezy     Adidas-Yeezy-Boost-350-V2-Core-Black-Green   \n",
       "3 2017-09-01   Yeezy       Adidas-Yeezy-Boost-350-V2-Core-Black-Red   \n",
       "4 2017-09-01   Yeezy  Adidas-Yeezy-Boost-350-V2-Core-Black-Red-2017   \n",
       "\n",
       "   Sale_Price  Retail_Price Release_Date  Shoe_Size  Buyer_Region  US_Region  \n",
       "0        1097           220   2016-09-24       11.0    California       West  \n",
       "1         685           220   2016-11-23       11.0    California       West  \n",
       "2         690           220   2016-11-23       11.0    California       West  \n",
       "3        1075           220   2016-11-23       11.5      Kentucky      South  \n",
       "4         828           220   2017-02-11       11.0  Rhode Island  Northeast  "
      ]
     },
     "execution_count": 30,
     "metadata": {},
     "output_type": "execute_result"
    }
   ],
   "source": [
    "df.head()"
   ]
  },
  {
   "cell_type": "code",
   "execution_count": 39,
   "metadata": {},
   "outputs": [
    {
     "data": {
      "image/png": "[encoded data removed]",
      "text/plain": [
       "<Figure size 720x360 with 1 Axes>"
      ]
     },
     "metadata": {
      "needs_background": "light"
     },
     "output_type": "display_data"
    }
   ],
   "source": [
    "pd.value_counts(df['US_Region']).plot.bar(color = 'green')\n",
    "plt.title('Sneaker Sales per US Region', fontsize = 16)\n",
    "plt.xlabel('US Region', fontsize = 16)\n",
    "plt.ylabel('Sneaker Sales', fontsize = 16)\n",
    "plt.savefig('figures/SneakerSalesPerUSRegion.png', dpi = 300, bbox_inches = 'tight')\n",
    "plt.show()"
   ]
  },
  {
   "cell_type": "code",
   "execution_count": 16,
   "metadata": {},
   "outputs": [
    {
     "name": "stderr",
     "output_type": "stream",
     "text": [
      "/Users/kevin18le/opt/anaconda3/envs/data1030-kevinle/lib/python3.7/site-packages/ipykernel_launcher.py:12: UserWarning: Matplotlib is currently using module://ipykernel.pylab.backend_inline, which is a non-GUI backend, so cannot show the figure.\n",
      "  if sys.path[0] == '':\n"
     ]
    },
    {
     "data": {
      "image/png": "[encoded data removed]",
      "text/plain": [
       "<Figure size 720x360 with 1 Axes>"
      ]
     },
     "metadata": {},
     "output_type": "display_data"
    }
   ],
   "source": [
    "# create normalized pie charts for US region\n",
    "\n",
    "# formats proportions into percentages\n",
    "def func(pct, allvals): \n",
    "    return \"{:.1f}%\".format(pct)\n",
    "\n",
    "fig, ax = plt.subplots()\n",
    "Z = pd.value_counts(df['US_Region'], normalize = True)\n",
    "ax.pie(Z.values, labels = Z.index, autopct = lambda pct: func(pct, Z.values))\n",
    "plt.title('Percentage of Sneaker Sales per US Region')\n",
    "plt.savefig('figures/SalesPerRegionPie.png', dpi = 300, bbox_inches = 'tight')\n",
    "fig.show()"
   ]
  },
  {
   "cell_type": "code",
   "execution_count": 18,
   "metadata": {},
   "outputs": [
    {
     "data": {
      "image/png": "[encoded data removed]",
      "text/plain": [
       "<Figure size 720x360 with 1 Axes>"
      ]
     },
     "metadata": {
      "needs_background": "light"
     },
     "output_type": "display_data"
    }
   ],
   "source": [
    "# Distribution of Sale Price based on US Region\n",
    "cat = df['US_Region'].unique()\n",
    "dataset = [df[df['US_Region'] == cat[0]]['Sale Price'].values, \\\n",
    "          df[df['US_Region'] == cat[1]]['Sale Price'].values, \\\n",
    "          df[df['US_Region'] == cat[2]]['Sale Price'].values, \\\n",
    "          df[df['US_Region'] == cat[3]]['Sale Price'].values]\n",
    "\n",
    "plt.violinplot(dataset = dataset)\n",
    "plt.xticks([1, 2, 3, 4], [cat[0], cat[1], cat[2], cat[3]])\n",
    "plt.title('Distribution of Resale Prices per US Region', fontsize = 16)\n",
    "plt.xlabel('US Region', fontsize = 16)\n",
    "plt.ylabel('Sale Price', fontsize = 16)\n",
    "plt.savefig('figures/SalePricePerRegionViolin.png', dpi=300, bbox_inches='tight')\n",
    "plt.show()"
   ]
  },
  {
   "cell_type": "code",
   "execution_count": 19,
   "metadata": {},
   "outputs": [
    {
     "name": "stdout",
     "output_type": "stream",
     "text": [
      "Brand         Yeezy  Off-White\n",
      "US_Region                     \n",
      "Midwest    0.753210   0.246790\n",
      "Northeast  0.737376   0.262624\n",
      "South      0.729658   0.270342\n",
      "West       0.690700   0.309300\n"
     ]
    }
   ],
   "source": [
    "# proportion of sales per brand based on US Region\n",
    "count_matrix = df.groupby(['US_Region', 'Brand']).size().unstack()\n",
    "count_matrix_norm = count_matrix.div(count_matrix.sum(axis=1), axis = 0)\n",
    "print(count_matrix_norm)"
   ]
  },
  {
   "cell_type": "code",
   "execution_count": 20,
   "metadata": {},
   "outputs": [
    {
     "data": {
      "image/png": "[encoded data removed]",
      "text/plain": [
       "<Figure size 720x360 with 1 Axes>"
      ]
     },
     "metadata": {
      "needs_background": "light"
     },
     "output_type": "display_data"
    }
   ],
   "source": [
    "count_matrix_norm.plot(kind = 'bar', stacked = True)\n",
    "plt.ylabel('Proportion of sales by brand', fontsize = 16)\n",
    "plt.xlabel('US Region', fontsize = 16)\n",
    "plt.title('Brand Sales by US Region', fontsize = 16)\n",
    "plt.legend(loc = 4)\n",
    "plt.savefig('figures/BrandSalesPerRegion.png', dpi=300, bbox_inches='tight')\n",
    "plt.show()"
   ]
  },
  {
   "cell_type": "code",
   "execution_count": 21,
   "metadata": {},
   "outputs": [
    {
     "data": {
      "text/html": [
       "<div>\n",
       "<style scoped>\n",
       "    .dataframe tbody tr th:only-of-type {\n",
       "        vertical-align: middle;\n",
       "    }\n",
       "\n",
       "    .dataframe tbody tr th {\n",
       "        vertical-align: top;\n",
       "    }\n",
       "\n",
       "    .dataframe thead th {\n",
       "        text-align: right;\n",
       "    }\n",
       "</style>\n",
       "<table border=\"1\" class=\"dataframe\">\n",
       "  <thead>\n",
       "    <tr style=\"text-align: right;\">\n",
       "      <th></th>\n",
       "      <th>US_Region</th>\n",
       "      <th>Average Price</th>\n",
       "    </tr>\n",
       "  </thead>\n",
       "  <tbody>\n",
       "    <tr>\n",
       "      <th>0</th>\n",
       "      <td>West</td>\n",
       "      <td>470.753478</td>\n",
       "    </tr>\n",
       "    <tr>\n",
       "      <th>1</th>\n",
       "      <td>Northeast</td>\n",
       "      <td>438.325666</td>\n",
       "    </tr>\n",
       "    <tr>\n",
       "      <th>2</th>\n",
       "      <td>South</td>\n",
       "      <td>434.590114</td>\n",
       "    </tr>\n",
       "    <tr>\n",
       "      <th>3</th>\n",
       "      <td>Midwest</td>\n",
       "      <td>425.927621</td>\n",
       "    </tr>\n",
       "  </tbody>\n",
       "</table>\n",
       "</div>"
      ],
      "text/plain": [
       "   US_Region  Average Price\n",
       "0       West     470.753478\n",
       "1  Northeast     438.325666\n",
       "2      South     434.590114\n",
       "3    Midwest     425.927621"
      ]
     },
     "execution_count": 21,
     "metadata": {},
     "output_type": "execute_result"
    }
   ],
   "source": [
    "# trend between US buyer region and average sale price\n",
    "reg = df[['US_Region', 'Sale Price']]\n",
    "un_reg = df['US_Region'].value_counts().index.tolist()\n",
    "avg = []\n",
    "\n",
    "for region in un_reg:\n",
    "    row = reg.loc[reg['US_Region'] == str(region)]\n",
    "    avg.append(row['Sale Price'].mean())\n",
    "\n",
    "regions = pd.Series(un_reg)\n",
    "averages = pd.Series(avg)\n",
    "avgprice_df = pd.DataFrame(columns = ['US_Region', 'Average Price'])\n",
    "avgprice_df['US_Region'] = regions\n",
    "avgprice_df['Average Price'] = averages\n",
    "\n",
    "avgprice_df.head()"
   ]
  },
  {
   "cell_type": "code",
   "execution_count": 22,
   "metadata": {},
   "outputs": [
    {
     "data": {
      "image/png": "[encoded data removed]",
      "text/plain": [
       "<Figure size 720x360 with 1 Axes>"
      ]
     },
     "metadata": {
      "needs_background": "light"
     },
     "output_type": "display_data"
    }
   ],
   "source": [
    "avgprice_df.plot(kind = 'bar', x = 'US_Region', color = 'green')\n",
    "plt.title('Average Sale Price by Region', fontsize = 14)\n",
    "plt.xlabel('US Region', fontsize = 14)\n",
    "plt.ylabel('Price ($USD)', fontsize = 14)\n",
    "plt.savefig('figures/AveragePricePerRegion.png', dpi=300, bbox_inches='tight')\n",
    "plt.show()"
   ]
  },
  {
   "cell_type": "markdown",
   "metadata": {},
   "source": [
    "## Preprocessing\n",
    "\n",
    "We are going to split the data using a basic `train_test_split()`, followed by a shuffled `KFold` split. 60% of the data will belong to the training set, 20% to the validation set, and 20% to the test set. \n",
    "\n",
    "**Notes:**\n",
    "- Our dataset is IID\n",
    "- Doesn't have group structure. Each sale is its own distinct entity.\n",
    "- Not time series. Even though each sale has a specific date, the date doesn't have an impact on the data during data collection. Every sale is time-independent. \n",
    "- continuous features will be preprocessed with StandardScaler\n",
    "- categorical features will be processed with OneHotEncoder\n",
    "- target feature (US_Region/Buyer_Region) will be preprocessed with a LabelEncoder\n",
    "\n",
    "We'll be applying our ML models on two different target variables, `Buyer_Region`, which was a part of the original dataset, and `US_Region`, which I created on my own to reduce the number of labels in our target variable. "
   ]
  },
  {
   "cell_type": "code",
   "execution_count": 39,
   "metadata": {},
   "outputs": [],
   "source": [
    "from sklearn.model_selection import train_test_split, KFold\n",
    "from sklearn.compose import ColumnTransformer\n",
    "from sklearn.pipeline import Pipeline\n",
    "from sklearn.preprocessing import StandardScaler, MinMaxScaler, OneHotEncoder, LabelEncoder"
   ]
  },
  {
   "cell_type": "code",
   "execution_count": 36,
   "metadata": {},
   "outputs": [
    {
     "data": {
      "text/html": [
       "<div>\n",
       "<style scoped>\n",
       "    .dataframe tbody tr th:only-of-type {\n",
       "        vertical-align: middle;\n",
       "    }\n",
       "\n",
       "    .dataframe tbody tr th {\n",
       "        vertical-align: top;\n",
       "    }\n",
       "\n",
       "    .dataframe thead th {\n",
       "        text-align: right;\n",
       "    }\n",
       "</style>\n",
       "<table border=\"1\" class=\"dataframe\">\n",
       "  <thead>\n",
       "    <tr style=\"text-align: right;\">\n",
       "      <th></th>\n",
       "      <th>Order_Date</th>\n",
       "      <th>Brand</th>\n",
       "      <th>Sneaker_Name</th>\n",
       "      <th>Sale_Price</th>\n",
       "      <th>Retail_Price</th>\n",
       "      <th>Release_Date</th>\n",
       "      <th>Shoe_Size</th>\n",
       "    </tr>\n",
       "  </thead>\n",
       "  <tbody>\n",
       "    <tr>\n",
       "      <th>0</th>\n",
       "      <td>2017-09-01</td>\n",
       "      <td>Yeezy</td>\n",
       "      <td>Adidas-Yeezy-Boost-350-Low-V2-Beluga</td>\n",
       "      <td>1097</td>\n",
       "      <td>220</td>\n",
       "      <td>2016-09-24</td>\n",
       "      <td>11.0</td>\n",
       "    </tr>\n",
       "    <tr>\n",
       "      <th>1</th>\n",
       "      <td>2017-09-01</td>\n",
       "      <td>Yeezy</td>\n",
       "      <td>Adidas-Yeezy-Boost-350-V2-Core-Black-Copper</td>\n",
       "      <td>685</td>\n",
       "      <td>220</td>\n",
       "      <td>2016-11-23</td>\n",
       "      <td>11.0</td>\n",
       "    </tr>\n",
       "    <tr>\n",
       "      <th>2</th>\n",
       "      <td>2017-09-01</td>\n",
       "      <td>Yeezy</td>\n",
       "      <td>Adidas-Yeezy-Boost-350-V2-Core-Black-Green</td>\n",
       "      <td>690</td>\n",
       "      <td>220</td>\n",
       "      <td>2016-11-23</td>\n",
       "      <td>11.0</td>\n",
       "    </tr>\n",
       "    <tr>\n",
       "      <th>3</th>\n",
       "      <td>2017-09-01</td>\n",
       "      <td>Yeezy</td>\n",
       "      <td>Adidas-Yeezy-Boost-350-V2-Core-Black-Red</td>\n",
       "      <td>1075</td>\n",
       "      <td>220</td>\n",
       "      <td>2016-11-23</td>\n",
       "      <td>11.5</td>\n",
       "    </tr>\n",
       "    <tr>\n",
       "      <th>4</th>\n",
       "      <td>2017-09-01</td>\n",
       "      <td>Yeezy</td>\n",
       "      <td>Adidas-Yeezy-Boost-350-V2-Core-Black-Red-2017</td>\n",
       "      <td>828</td>\n",
       "      <td>220</td>\n",
       "      <td>2017-02-11</td>\n",
       "      <td>11.0</td>\n",
       "    </tr>\n",
       "  </tbody>\n",
       "</table>\n",
       "</div>"
      ],
      "text/plain": [
       "  Order_Date   Brand                                   Sneaker_Name  \\\n",
       "0 2017-09-01   Yeezy           Adidas-Yeezy-Boost-350-Low-V2-Beluga   \n",
       "1 2017-09-01   Yeezy    Adidas-Yeezy-Boost-350-V2-Core-Black-Copper   \n",
       "2 2017-09-01   Yeezy     Adidas-Yeezy-Boost-350-V2-Core-Black-Green   \n",
       "3 2017-09-01   Yeezy       Adidas-Yeezy-Boost-350-V2-Core-Black-Red   \n",
       "4 2017-09-01   Yeezy  Adidas-Yeezy-Boost-350-V2-Core-Black-Red-2017   \n",
       "\n",
       "   Sale_Price  Retail_Price Release_Date  Shoe_Size  \n",
       "0        1097           220   2016-09-24       11.0  \n",
       "1         685           220   2016-11-23       11.0  \n",
       "2         690           220   2016-11-23       11.0  \n",
       "3        1075           220   2016-11-23       11.5  \n",
       "4         828           220   2017-02-11       11.0  "
      ]
     },
     "execution_count": 36,
     "metadata": {},
     "output_type": "execute_result"
    }
   ],
   "source": [
    "# separate feature matrix and target variable \n",
    "y1 = df['US_Region']\n",
    "y2 = df['Buyer_Region']\n",
    "X = df.drop(columns=['Buyer_Region', 'US_Region'])\n",
    "X.head()"
   ]
  },
  {
   "cell_type": "markdown",
   "metadata": {},
   "source": [
    "Since there are few release dates, `Release_Date` will be treated as a categorical variable. On the other hand, since there are many unique order dates (over 500), `Order_Date` will be treated as a continuous variable. "
   ]
  },
  {
   "cell_type": "code",
   "execution_count": 37,
   "metadata": {},
   "outputs": [
    {
     "data": {
      "text/plain": [
       "0        736573\n",
       "1        736573\n",
       "2        736573\n",
       "3        736573\n",
       "4        736573\n",
       "          ...  \n",
       "99951    737103\n",
       "99952    737103\n",
       "99953    737103\n",
       "99954    737103\n",
       "99955    737103\n",
       "Name: Order_Date, Length: 99956, dtype: int64"
      ]
     },
     "execution_count": 37,
     "metadata": {},
     "output_type": "execute_result"
    }
   ],
   "source": [
    "# since there are few release dates, Release_Date will be treated\n",
    "# as a categorical variable\n",
    "\n",
    "# since there are many order dates (over 500), Order_Date will be treated\n",
    "# as a continuous variable\n",
    "\n",
    "# first we need to convert Order_Date into an ordinal\n",
    "X.loc[:, 'Order_Date'] = X['Order_Date'].apply(lambda x: x.toordinal())\n",
    "X['Order_Date']"
   ]
  },
  {
   "cell_type": "code",
   "execution_count": 40,
   "metadata": {},
   "outputs": [],
   "source": [
    "# prepare preprocessors \n",
    "\n",
    "onehot_ftrs = ['Brand', 'Sneaker_Name', 'Release_Date', 'Buyer_Region']\n",
    "std_ftrs = ['Retail_Price', 'Sale_Price']\n",
    "minmax_ftrs = ['Shoe_Size', 'Order_Date']\n",
    "\n",
    "# collect all encoders\n",
    "preprocessor = ColumnTransformer(\n",
    "    transformers = [\n",
    "        ('onehot', OneHotEncoder(sparse = False, handle_unknown = 'ignore'), \\\n",
    "         onehot_ftrs), \n",
    "        ('minmax', MinMaxScaler(), minmax_ftrs),\n",
    "        ('std', StandardScaler(), std_ftrs)\n",
    "    ])\n",
    "\n",
    "clf = Pipeline(steps = [('preprocessor', preprocessor)])"
   ]
  },
  {
   "cell_type": "code",
   "execution_count": 41,
   "metadata": {},
   "outputs": [
    {
     "ename": "NameError",
     "evalue": "name 'y' is not defined",
     "output_type": "error",
     "traceback": [
      "\u001b[0;31m---------------------------------------------------------------------------\u001b[0m",
      "\u001b[0;31mNameError\u001b[0m                                 Traceback (most recent call last)",
      "\u001b[0;32m<ipython-input-41-3d8d6fdcf776>\u001b[0m in \u001b[0;36m<module>\u001b[0;34m\u001b[0m\n\u001b[1;32m      3\u001b[0m \u001b[0;31m# separate the test set\u001b[0m\u001b[0;34m\u001b[0m\u001b[0;34m\u001b[0m\u001b[0;34m\u001b[0m\u001b[0m\n\u001b[1;32m      4\u001b[0m \u001b[0mrandom_state\u001b[0m \u001b[0;34m=\u001b[0m \u001b[0;36m42\u001b[0m\u001b[0;34m\u001b[0m\u001b[0;34m\u001b[0m\u001b[0m\n\u001b[0;32m----> 5\u001b[0;31m X_other, X_test, y_other, y_test = train_test_split(X, y, test_size = 0.2, \\\n\u001b[0m\u001b[1;32m      6\u001b[0m                                                    random_state = random_state)\n\u001b[1;32m      7\u001b[0m \u001b[0mprint\u001b[0m\u001b[0;34m(\u001b[0m\u001b[0mX_other\u001b[0m\u001b[0;34m.\u001b[0m\u001b[0mshape\u001b[0m\u001b[0;34m,\u001b[0m \u001b[0my_other\u001b[0m\u001b[0;34m.\u001b[0m\u001b[0mshape\u001b[0m\u001b[0;34m)\u001b[0m\u001b[0;34m\u001b[0m\u001b[0;34m\u001b[0m\u001b[0m\n",
      "\u001b[0;31mNameError\u001b[0m: name 'y' is not defined"
     ]
    }
   ],
   "source": [
    "# split using train_test_split and KFold to account for randomness\n",
    "\n",
    "# separate the test set\n",
    "random_state = 42\n",
    "X_other, X_test, y_other, y_test = train_test_split(X, y, test_size = 0.2, \\\n",
    "                                                   random_state = random_state)\n",
    "print(X_other.shape, y_other.shape)\n",
    "print('test set: ', X_test.shape, y_test.shape)\n",
    "\n",
    "# shuffled KFold split on other\n",
    "kf = KFold(n_splits = 5, shuffle = True, random_state = random_state)\n",
    "for train_idx, val_idx in kf.split(X_other, y_other):\n",
    "    X_train = X_other.iloc[train_idx]\n",
    "    y_train = y_other.iloc[train_idx]\n",
    "    X_val = X_other.iloc[val_idx]\n",
    "    y_val = y_other.iloc[val_idx]\n",
    "    X_test = X_test\n",
    "    y_test = y_test\n",
    "    \n",
    "    # preprocess the features \n",
    "    X_train_prep = clf.fit_transform(X_train)\n",
    "    X_val_prep = clf.transform(X_val)\n",
    "    X_test_prep = clf.transform(X_test)\n",
    "    # print to ensure reproducibility\n",
    "    print('training set: ', X_train.shape)\n",
    "    print('preprocessed training set: ', X_train_prep.shape)\n",
    "    \n",
    "    # target variable preprocessed separately \n",
    "    le = LabelEncoder()\n",
    "    y_train_prep = le.fit_transform(y_train)\n",
    "    y_val_prep = le.transform(y_val)\n",
    "    y_test_prep = le.transform(y_test)  \n",
    "    \n",
    "    print('X test: ', X_test_prep.shape)\n",
    "    print('Y test: ', y_test_prep.shape)\n",
    "# we went from 8 features to 142 features"
   ]
  },
  {
   "cell_type": "markdown",
   "metadata": {},
   "source": [
    "## Note\n",
    "Integrate all steps of the ML pipeline into separate functions. \n",
    "Next, choose an evaluation metric and implement GridSearchCV."
   ]
  },
  {
   "cell_type": "code",
   "execution_count": null,
   "metadata": {},
   "outputs": [],
   "source": []
  }
 ],
 "metadata": {
  "kernelspec": {
   "display_name": "Python 3",
   "language": "python",
   "name": "python3"
  },
  "language_info": {
   "codemirror_mode": {
    "name": "ipython",
    "version": 3
   },
   "file_extension": ".py",
   "mimetype": "text/x-python",
   "name": "python",
   "nbconvert_exporter": "python",
   "pygments_lexer": "ipython3",
   "version": "3.7.6"
  }
 },
 "nbformat": 4,
 "nbformat_minor": 4
}
